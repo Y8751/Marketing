{
 "cells": [
  {
   "cell_type": "code",
   "execution_count": 1,
   "id": "b6d5fb3f-7e4b-4fd3-8b67-7476e5196ee9",
   "metadata": {},
   "outputs": [],
   "source": [
    "#Importing the necessary libraries\n",
    "\n",
    "import pandas as pd\n",
    "import matplotlib.pyplot as plt\n",
    "import altair as alt\n",
    "import seaborn as sns"
   ]
  },
  {
   "cell_type": "code",
   "execution_count": 2,
   "id": "fa708033-9437-47e5-b0f9-28d4ebc5146d",
   "metadata": {},
   "outputs": [],
   "source": [
    "#Reading the data from an excel sheet \n",
    "\n",
    "df = pd.read_excel(r\"D:\\ANACONDA\\1-Jupyter\\Marketing Campaign Performance Analysis\\01K42XCB5R0JP14F7PEK1PJ1DK.xlsx\", sheet_name=\"Campaign_Data\")"
   ]
  },
  {
   "cell_type": "code",
   "execution_count": 3,
   "id": "5cb8b5df-0be2-4cb5-b797-ef11e2755eb2",
   "metadata": {},
   "outputs": [
    {
     "data": {
      "text/html": [
       "\n",
       "            <div>\n",
       "                <ins><a href=\"https://ydata.ai/register\">Upgrade to ydata-sdk</a></ins>\n",
       "                <p>\n",
       "                    Improve your data and profiling with ydata-sdk, featuring data quality scoring, redundancy detection, outlier identification, text validation, and synthetic data generation.\n",
       "                </p>\n",
       "            </div>\n",
       "            "
      ],
      "text/plain": [
       "<IPython.core.display.HTML object>"
      ]
     },
     "metadata": {},
     "output_type": "display_data"
    },
    {
     "data": {
      "application/vnd.jupyter.widget-view+json": {
       "model_id": "31d5db00531b4c4a8c6f47b62f395959",
       "version_major": 2,
       "version_minor": 0
      },
      "text/plain": [
       "Summarize dataset:   0%|          | 0/5 [00:00<?, ?it/s]"
      ]
     },
     "metadata": {},
     "output_type": "display_data"
    },
    {
     "name": "stderr",
     "output_type": "stream",
     "text": [
      "\n",
      "100%|█████████████████████████████████████████████████████████████████████████████████| 13/13 [00:00<00:00, 138.13it/s]\u001b[A\n"
     ]
    },
    {
     "data": {
      "application/vnd.jupyter.widget-view+json": {
       "model_id": "a3ab918fc01945b5b355315f839c585f",
       "version_major": 2,
       "version_minor": 0
      },
      "text/plain": [
       "Generate report structure:   0%|          | 0/1 [00:00<?, ?it/s]"
      ]
     },
     "metadata": {},
     "output_type": "display_data"
    },
    {
     "data": {
      "application/vnd.jupyter.widget-view+json": {
       "model_id": "7c4c99ef6ce741e6b4ea7faa2c70826f",
       "version_major": 2,
       "version_minor": 0
      },
      "text/plain": [
       "Render HTML:   0%|          | 0/1 [00:00<?, ?it/s]"
      ]
     },
     "metadata": {},
     "output_type": "display_data"
    },
    {
     "data": {
      "application/vnd.jupyter.widget-view+json": {
       "model_id": "e9a6b1f23bb34295af78c2574f959f26",
       "version_major": 2,
       "version_minor": 0
      },
      "text/plain": [
       "Export report to file:   0%|          | 0/1 [00:00<?, ?it/s]"
      ]
     },
     "metadata": {},
     "output_type": "display_data"
    }
   ],
   "source": [
    "from ydata_profiling import ProfileReport\n",
    "profile = ProfileReport(df,title=\"EDA Report\",explorative=True)\n",
    "profile.to_file(\"Market_report.html\")"
   ]
  },
  {
   "cell_type": "code",
   "execution_count": 4,
   "id": "761a9ece-980d-4e15-81ba-6e46776def43",
   "metadata": {},
   "outputs": [],
   "source": [
    "#Calculating basic indicators\n",
    "\n",
    "df[\"CTR\"] = df[\"Clicks\"] / df[\"Impressions\"]\n",
    "df[\"Conversion_Rate\"] = df[\"Conversions\"] / df[\"Clicks\"]\n",
    "df[\"CPC\"] = df[\"Total_Spend\"] / df[\"Clicks\"]\n",
    "df[\"CPA\"] = df[\"Total_Spend\"] / df[\"Conversions\"]\n",
    "df[\"ROAS\"] = df[\"Revenue_Generated\"] / df[\"Total_Spend\"]"
   ]
  },
  {
   "cell_type": "code",
   "execution_count": 5,
   "id": "26375133-c6e9-429d-b698-62e928b101b1",
   "metadata": {},
   "outputs": [
    {
     "name": "stdout",
     "output_type": "stream",
     "text": [
      "📌 Summary KPIs:\n",
      " {'Total Impressions': 80192134.39999999, 'Total Clicks': 40281337.6, 'Total Conversions': 20255652.8, 'Total Spend': 8157198.256000001, 'Total Revenue': 21221739.04, 'Avg CTR': 0.5031624690786107, 'Overall ROAS': 2.5964181673842592}\n"
     ]
    }
   ],
   "source": [
    "#KPI's\n",
    "\n",
    "summary = {\n",
    "    \"Total Impressions\": df[\"Impressions\"].sum(),\n",
    "    \"Total Clicks\": df[\"Clicks\"].sum(),\n",
    "    \"Total Conversions\": df[\"Conversions\"].sum(),\n",
    "    \"Total Spend\": df[\"Total_Spend\"].sum(),\n",
    "    \"Total Revenue\": df[\"Revenue_Generated\"].sum(),\n",
    "    \"Avg CTR\": df[\"CTR\"].mean(),\n",
    "    \"Overall ROAS\": df[\"ROAS\"].mean()\n",
    "}\n",
    "print(\"📌 Summary KPIs:\\n\", summary)\n"
   ]
  },
  {
   "cell_type": "code",
   "execution_count": 6,
   "id": "a2e6d94d-b7e7-42b0-ac0e-46e28c65c4c1",
   "metadata": {},
   "outputs": [
    {
     "name": "stderr",
     "output_type": "stream",
     "text": [
      "C:\\Users\\YOUSEF\\AppData\\Local\\Temp\\ipykernel_5108\\167383179.py:13: UserWarning: FigureCanvasAgg is non-interactive, and thus cannot be shown\n",
      "  plt.show()\n"
     ]
    }
   ],
   "source": [
    "#Campaign performance\n",
    "\n",
    "camp_perf = df.groupby(\"Campaign_Name\").agg({\n",
    "    \"Impressions\": \"sum\", \"Clicks\": \"sum\", \"Conversions\": \"sum\",\n",
    "    \"Total_Spend\": \"sum\", \"Revenue_Generated\": \"sum\"\n",
    "}).reset_index()\n",
    "camp_perf[\"ROAS\"] = camp_perf[\"Revenue_Generated\"] / camp_perf[\"Total_Spend\"]\n",
    "\n",
    "plt.figure(figsize=(10,5))\n",
    "sns.barplot(data=camp_perf, x=\"Campaign_Name\", y=\"ROAS\")\n",
    "plt.title(\"ROAS per Campaign\")\n",
    "plt.xticks(rotation=45, ha=\"right\")\n",
    "plt.show()"
   ]
  },
  {
   "cell_type": "code",
   "execution_count": 7,
   "id": "3176eced-736f-4f8c-8ef3-aade49e9065a",
   "metadata": {},
   "outputs": [
    {
     "name": "stderr",
     "output_type": "stream",
     "text": [
      "C:\\Users\\YOUSEF\\AppData\\Local\\Temp\\ipykernel_5108\\268319686.py:12: UserWarning: FigureCanvasAgg is non-interactive, and thus cannot be shown\n",
      "  plt.show()\n"
     ]
    }
   ],
   "source": [
    "#Channel performance\n",
    "\n",
    "channel_perf = df.groupby(\"Marketing_Channel\").agg({\n",
    "    \"Impressions\": \"sum\", \"Clicks\": \"sum\", \"Conversions\": \"sum\",\n",
    "    \"Total_Spend\": \"sum\", \"Revenue_Generated\": \"sum\"\n",
    "}).reset_index()\n",
    "channel_perf[\"ROAS\"] = channel_perf[\"Revenue_Generated\"] / channel_perf[\"Total_Spend\"]\n",
    "\n",
    "plt.figure(figsize=(8,5))\n",
    "sns.barplot(data=channel_perf, x=\"Marketing_Channel\", y=\"ROAS\")\n",
    "plt.title(\"ROAS per Channel\")\n",
    "plt.show()"
   ]
  },
  {
   "cell_type": "code",
   "execution_count": 8,
   "id": "0e963424-09c4-442f-a237-782786885b7c",
   "metadata": {},
   "outputs": [
    {
     "name": "stderr",
     "output_type": "stream",
     "text": [
      "C:\\Users\\YOUSEF\\AppData\\Local\\Temp\\ipykernel_5108\\2655631534.py:10: UserWarning: FigureCanvasAgg is non-interactive, and thus cannot be shown\n",
      "  plt.show()\n"
     ]
    }
   ],
   "source": [
    "#Demographic analysis\n",
    "\n",
    "demo_perf = df.groupby([\"Age_Group\",\"Gender\"]).agg({\n",
    "    \"Conversions\":\"sum\",\"Revenue_Generated\":\"sum\"\n",
    "}).reset_index()\n",
    "\n",
    "plt.figure(figsize=(8,5))\n",
    "sns.barplot(data=demo_perf, x=\"Age_Group\", y=\"Conversions\", hue=\"Gender\")\n",
    "plt.title(\"Conversions by Age & Gender\")\n",
    "plt.show()"
   ]
  },
  {
   "cell_type": "code",
   "execution_count": 9,
   "id": "5f214866-629f-4970-bbbb-ea47243b30b6",
   "metadata": {},
   "outputs": [
    {
     "name": "stderr",
     "output_type": "stream",
     "text": [
      "C:\\Users\\YOUSEF\\AppData\\Local\\Temp\\ipykernel_5108\\938649321.py:16: UserWarning: FigureCanvasAgg is non-interactive, and thus cannot be shown\n",
      "  plt.show()\n"
     ]
    }
   ],
   "source": [
    "#Time analysis\n",
    "\n",
    "df[\"Start_Date\"] = pd.to_datetime(df[\"Start_Date\"], errors=\"coerce\")\n",
    "df[\"Month\"] = df[\"Start_Date\"].dt.to_period(\"M\").astype(str)\n",
    "\n",
    "time_perf = df.groupby(\"Month\").agg({\n",
    "    \"Impressions\":\"sum\",\"Clicks\":\"sum\",\"Conversions\":\"sum\",\n",
    "    \"Total_Spend\":\"sum\",\"Revenue_Generated\":\"sum\"\n",
    "}).reset_index()\n",
    "time_perf[\"ROAS\"] = time_perf[\"Revenue_Generated\"] / time_perf[\"Total_Spend\"]\n",
    "\n",
    "plt.figure(figsize=(10,5))\n",
    "sns.lineplot(data=time_perf, x=\"Month\", y=\"ROAS\", marker=\"o\")\n",
    "plt.title(\"ROAS Over Time\")\n",
    "plt.xticks(rotation=45)\n",
    "plt.show()"
   ]
  },
  {
   "cell_type": "code",
   "execution_count": 10,
   "id": "543120ef-99a7-4dc9-bfb0-02fc9a7a208d",
   "metadata": {},
   "outputs": [
    {
     "name": "stderr",
     "output_type": "stream",
     "text": [
      "2025-09-10 17:54:37.691 \n",
      "  \u001b[33m\u001b[1mWarning:\u001b[0m to view this Streamlit app on a browser, run it with the following\n",
      "  command:\n",
      "\n",
      "    streamlit run C:\\Users\\YOUSEF\\anaconda3\\Lib\\site-packages\\ipykernel_launcher.py [ARGUMENTS]\n"
     ]
    },
    {
     "data": {
      "text/plain": [
       "DeltaGenerator()"
      ]
     },
     "execution_count": 10,
     "metadata": {},
     "output_type": "execute_result"
    }
   ],
   "source": [
    "import streamlit as st\n",
    "st.pyplot(plt.gcf())"
   ]
  },
  {
   "cell_type": "code",
   "execution_count": 11,
   "id": "4206eb66-137a-4d7b-a968-865fa24974e3",
   "metadata": {},
   "outputs": [
    {
     "name": "stderr",
     "output_type": "stream",
     "text": [
      "2025-09-10 17:54:37.712 Session state does not function when running a script without `streamlit run`\n"
     ]
    }
   ],
   "source": [
    "channels = [\"All\"] + sorted(df[\"Marketing_Channel\"].dropna().unique())\n",
    "choice = st.sidebar.selectbox(\"Choose Channel\", channels)\n",
    "if choice != \"All\":\n",
    "    df = df[df[\"Marketing_Channel\"] == choice]\n"
   ]
  },
  {
   "cell_type": "code",
   "execution_count": 12,
   "id": "817ea8c3-c7b0-4d74-bea2-8b191e5c103a",
   "metadata": {},
   "outputs": [
    {
     "data": {
      "text/plain": [
       "DeltaGenerator()"
      ]
     },
     "execution_count": 12,
     "metadata": {},
     "output_type": "execute_result"
    }
   ],
   "source": [
    "st.metric(\"Total Revenue\", f\"${df['Revenue_Generated'].sum():,.2f}\")"
   ]
  },
  {
   "cell_type": "code",
   "execution_count": null,
   "id": "a5f5b1bf-af68-4674-b1b6-8d29ee3be2b7",
   "metadata": {},
   "outputs": [],
   "source": []
  }
 ],
 "metadata": {
  "kernelspec": {
   "display_name": "Python [conda env:base]",
   "language": "python",
   "name": "conda-base-py"
  },
  "language_info": {
   "codemirror_mode": {
    "name": "ipython",
    "version": 3
   },
   "file_extension": ".py",
   "mimetype": "text/x-python",
   "name": "python",
   "nbconvert_exporter": "python",
   "pygments_lexer": "ipython3",
   "version": "3.12.7"
  }
 },
 "nbformat": 4,
 "nbformat_minor": 5
}
